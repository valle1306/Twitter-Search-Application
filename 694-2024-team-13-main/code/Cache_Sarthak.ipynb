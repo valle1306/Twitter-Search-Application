{
 "cells": [
  {
   "cell_type": "code",
   "execution_count": 2,
   "id": "cea4a477",
   "metadata": {},
   "outputs": [
    {
     "name": "stdout",
     "output_type": "stream",
     "text": [
      "Cache file not found, starting with an empty cache.\n"
     ]
    }
   ],
   "source": [
    "import json\n",
    "import time\n",
    "from collections import OrderedDict\n",
    "\n",
    "class LRUCache:\n",
    "    def __init__(self, capacity, ttl, persistence_path):\n",
    "        self.cache = OrderedDict()\n",
    "        self.capacity = capacity\n",
    "        self.ttl = ttl\n",
    "        self.persistence_path = persistence_path\n",
    "\n",
    "    def get(self, key):\n",
    "        if key in self.cache and not self.is_expired(key):\n",
    "            self.cache.move_to_end(key)\n",
    "            return self.cache[key]['data']\n",
    "        return None\n",
    "\n",
    "    def put(self, key, value):\n",
    "        if key in self.cache:\n",
    "            self.cache.move_to_end(key)\n",
    "        self.cache[key] = {'data': value, 'timestamp': time.time()}\n",
    "        if len(self.cache) > self.capacity:\n",
    "            oldest = next(iter(self.cache))\n",
    "            del self.cache[oldest]\n",
    "\n",
    "    def is_expired(self, key):\n",
    "        return (time.time() - self.cache[key]['timestamp']) > self.ttl\n",
    "\n",
    "    def persist(self):\n",
    "        # Convert to a format that is JSON serializable\n",
    "        with open(self.persistence_path, 'w') as f:\n",
    "            json.dump({k: {'data': str(v['data']), 'timestamp': v['timestamp']} for k, v in self.cache.items()}, f)\n",
    "\n",
    "    def restore(self):\n",
    "        try:\n",
    "            with open(self.persistence_path, 'r') as f:\n",
    "                loaded_cache = json.load(f)\n",
    "                self.cache = OrderedDict((k, {'data': v['data'], 'timestamp': v['timestamp']}) for k, v in loaded_cache.items())\n",
    "        except FileNotFoundError:\n",
    "            print(\"Cache file not found, starting with an empty cache.\")\n",
    "    \n",
    "    def print_cache(self):\n",
    "        # This method prints the current state of the cache\n",
    "        print(\"Cache contents:\")\n",
    "        for key, value in self.cache.items():\n",
    "            data = value['data']\n",
    "            timestamp = value['timestamp']\n",
    "            current_time = time.time()\n",
    "            age = current_time - timestamp\n",
    "            print(f\"Key: {key}, Data: {data}, Timestamp: {timestamp}, Age: {age:.2f} seconds\")\n",
    "\n",
    "cache = LRUCache(capacity=100, ttl=3600, persistence_path='cache.json')\n",
    "cache.restore()"
   ]
  },
  {
   "cell_type": "code",
   "execution_count": null,
   "id": "19511900",
   "metadata": {},
   "outputs": [],
   "source": []
  }
 ],
 "metadata": {
  "kernelspec": {
   "display_name": "Python 3 (ipykernel)",
   "language": "python",
   "name": "python3"
  },
  "language_info": {
   "codemirror_mode": {
    "name": "ipython",
    "version": 3
   },
   "file_extension": ".py",
   "mimetype": "text/x-python",
   "name": "python",
   "nbconvert_exporter": "python",
   "pygments_lexer": "ipython3",
   "version": "3.11.5"
  }
 },
 "nbformat": 4,
 "nbformat_minor": 5
}
