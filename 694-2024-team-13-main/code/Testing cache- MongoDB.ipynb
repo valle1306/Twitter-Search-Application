{
 "cells": [
  {
   "cell_type": "code",
   "execution_count": 1,
   "id": "9c0ae917",
   "metadata": {},
   "outputs": [
    {
     "name": "stdout",
     "output_type": "stream",
     "text": [
      "Requirement already satisfied: pymongo in c:\\users\\lpnhu\\anaconda3\\lib\\site-packages (4.6.2)\n",
      "Requirement already satisfied: dnspython<3.0.0,>=1.16.0 in c:\\users\\lpnhu\\anaconda3\\lib\\site-packages (from pymongo) (2.6.1)\n",
      "Note: you may need to restart the kernel to use updated packages.\n"
     ]
    }
   ],
   "source": [
    "pip install pymongo"
   ]
  },
  {
   "cell_type": "code",
   "execution_count": 2,
   "id": "2b5e2a71",
   "metadata": {},
   "outputs": [],
   "source": [
    "import json\n",
    "import pprint\n",
    "from datetime import datetime\n",
    "from pymongo import MongoClient\n",
    "from lrucache import LRUCache"
   ]
  },
  {
   "cell_type": "code",
   "execution_count": 3,
   "id": "fb8313ab",
   "metadata": {},
   "outputs": [],
   "source": [
    "MONGODB_URL=\"mongodb://localhost:27017\"\n",
    "client=MongoClient(MONGODB_URL)\n",
    "tweets_collection= client.dbms_project.tweets"
   ]
  },
  {
   "cell_type": "code",
   "execution_count": 4,
   "id": "15211ae5",
   "metadata": {},
   "outputs": [],
   "source": [
    "# Clear the entire collection\n",
    "# tweets_collection.delete_many({})\n",
    "# print(\"Collection cleared. Ready to start anew.\")"
   ]
  },
  {
   "cell_type": "code",
   "execution_count": 5,
   "id": "512f4ba9",
   "metadata": {},
   "outputs": [
    {
     "data": {
      "text/plain": [
       "'tweet_id_1'"
      ]
     },
     "execution_count": 5,
     "metadata": {},
     "output_type": "execute_result"
    }
   ],
   "source": [
    "#so that duplicate documents dont get inserted(raises an error)\n",
    "tweets_collection.create_index(\"tweet_id\", unique=True)"
   ]
  },
  {
   "cell_type": "code",
   "execution_count": 6,
   "id": "7a80ff72",
   "metadata": {},
   "outputs": [],
   "source": [
    "#we are reading the contents of the original tweet if the tweet is retweeted \n",
    "#for access to extended tweeet if available\n",
    "def get_tweet_text(data):\n",
    "    # Check if the tweet is a retweet based on the text content\n",
    "    if data['text'].startswith('RT'):\n",
    "        # Retrieve the original tweet's data from the retweeted_status, if available\n",
    "        retweet = data.get('retweeted_status', {})\n",
    "        if 'extended_tweet' in retweet:\n",
    "            # Use full_text from extended_tweet if available\n",
    "            return retweet['extended_tweet']['full_text']\n",
    "        else:\n",
    "            # Use text from retweeted_status if extended_tweet is not available\n",
    "            return retweet.get('text', data['text'])\n",
    "    else:\n",
    "        # For a non-retweet, check if it's an extended tweet\n",
    "        if 'extended_tweet' in data:\n",
    "            # Use full_text from extended_tweet if available\n",
    "            return data['extended_tweet']['full_text']\n",
    "        else:\n",
    "            # Use standard text field if it's not an extended tweet\n",
    "            return data['text']\n"
   ]
  },
  {
   "cell_type": "code",
   "execution_count": 7,
   "id": "46f2b313",
   "metadata": {},
   "outputs": [],
   "source": [
    "def get_hashtags(data):\n",
    "    # Check if the tweet is a retweet and extract hashtags accordingly\n",
    "    if data['text'].startswith('RT') and 'retweeted_status' in data:\n",
    "        retweet = data['retweeted_status']\n",
    "        hashtags_list = retweet.get('extended_tweet', {}).get('entities', {}).get('hashtags', retweet.get('entities', {}).get('hashtags', []))\n",
    "    else:\n",
    "        hashtags_list = data.get('extended_tweet', {}).get('entities', {}).get('hashtags', data.get('entities', {}).get('hashtags', []))\n",
    "    return [hashtag['text'] for hashtag in hashtags_list]"
   ]
  },
  {
   "cell_type": "code",
   "execution_count": 8,
   "id": "8ff78c07",
   "metadata": {},
   "outputs": [],
   "source": [
    "def read_and_insert(file_name):\n",
    "    with open(file_name, 'r') as file:\n",
    "        for line in file:\n",
    "            try:\n",
    "                data = json.loads(line)\n",
    "                if tweets_collection.count_documents({\"tweet_id\": data[\"id\"]}) == 0:\n",
    "                    tweet_text = get_tweet_text(data)\n",
    "                    hashtags = get_hashtags(data)\n",
    "\n",
    "                    tweet_document = {\n",
    "                        \"tweet_id\": data[\"id\"],\n",
    "                        \"text\": tweet_text,\n",
    "                        \"hashtags\": hashtags,\n",
    "                        \"user\": {\n",
    "                            \"user_id\": data['user']['id'],\n",
    "                            \"name\": data['user']['name'],\n",
    "                            \"screen_name\": data['user']['screen_name']\n",
    "                        },\n",
    "                        \"created_at\": parse_date(data['created_at'])\n",
    "                    }\n",
    "\n",
    "                    tweets_collection.insert_one(tweet_document)\n",
    "            except (json.JSONDecodeError, KeyError):\n",
    "                continue  # Skip invalid or incomplete lines\n"
   ]
  },
  {
   "cell_type": "code",
   "execution_count": 10,
   "id": "9637ecd4",
   "metadata": {},
   "outputs": [
    {
     "name": "stdout",
     "output_type": "stream",
     "text": [
      "Documents inserted\n"
     ]
    }
   ],
   "source": [
    "def parse_date(date_str):\n",
    "    return datetime.strptime(date_str, '%a %b %d %H:%M:%S %z %Y')\n",
    "\n",
    "# File paths\n",
    "file_1 = \"C:/Users/lpnhu/Downloads/694-2024-team-13/data/corona-out-2\"\n",
    "file_2 = \"C:/Users/lpnhu/Downloads/694-2024-team-13/data/corona-out-3\"\n",
    "\n",
    "# Process each file\n",
    "read_and_insert(file_1)\n",
    "read_and_insert(file_2)\n",
    "\n",
    "print(\"Documents inserted\")"
   ]
  },
  {
   "cell_type": "code",
   "execution_count": null,
   "id": "173c4da6",
   "metadata": {},
   "outputs": [],
   "source": []
  },
  {
   "cell_type": "markdown",
   "id": "54d515bb",
   "metadata": {},
   "source": [
    "# Integrate cache with MongoDB "
   ]
  },
  {
   "cell_type": "code",
   "execution_count": 11,
   "id": "446f2893",
   "metadata": {},
   "outputs": [],
   "source": [
    "tweets_collection = client.dbms_project.tweets\n",
    "\n",
    "def fetch_tweet_from_mongodb(tweet_id):\n",
    "    tweet = tweets_collection.find_one({\"tweet_id\": tweet_id})\n",
    "    return tweet\n",
    "\n",
    "cache = LRUCache(capacity=100, ttl=3600, persistence_path='cache.json')\n",
    "cache.restore()\n",
    "\n",
    "# Modify the get method in LRUCache to fetch data from MongoDB if not in cache\n",
    "# Define the fallback function outside the LRUCache class\n",
    "def get_with_mongo_fallback(self, key):\n",
    "    data = LRUCache.get(self, key)  # Call the original get method\n",
    "    if data is None:\n",
    "        # If not in cache, fetch from MongoDB\n",
    "        data = fetch_tweet_from_mongodb(key)\n",
    "        if data is not None:\n",
    "            # Update the cache with the fetched data\n",
    "            self.put(key, data)\n",
    "    return data\n",
    "\n",
    "# Bind the new method to the cache instance, bypassing the overridden get method\n",
    "import types\n",
    "cache.get = types.MethodType(get_with_mongo_fallback, cache)"
   ]
  },
  {
   "cell_type": "code",
   "execution_count": 12,
   "id": "b86e6c2f",
   "metadata": {},
   "outputs": [],
   "source": [
    "# Usage\n",
    "tweet_id = '1254022772558368768'\n",
    "tweet_data = cache.get(tweet_id)"
   ]
  },
  {
   "cell_type": "markdown",
   "id": "8b1dab0b",
   "metadata": {},
   "source": [
    "# Set up timing and logging mechanism "
   ]
  },
  {
   "cell_type": "code",
   "execution_count": 19,
   "id": "69428834",
   "metadata": {},
   "outputs": [],
   "source": [
    "import time\n",
    "import logging\n",
    "\n",
    "# Set up basic logging to a file\n",
    "logging.basicConfig(filename='cache_performance.log', level=logging.INFO)\n",
    "\n",
    "def log_performance(start_time, end_time, operation, key, hit_or_miss):\n",
    "    duration = end_time - start_time\n",
    "    logging.info(f\"{operation} took {duration:.6f} seconds\")"
   ]
  },
  {
   "cell_type": "markdown",
   "id": "7abdefad",
   "metadata": {},
   "source": [
    "# Modify cache methods to include timing"
   ]
  },
  {
   "cell_type": "code",
   "execution_count": 14,
   "id": "0db09f40",
   "metadata": {},
   "outputs": [],
   "source": [
    "def get_with_mongo_fallback(self, key):\n",
    "    start_time = time.time()\n",
    "    data = LRUCache.get(self, key)  # Call the original get method of LRUCache\n",
    "    if data is not None:\n",
    "        # Cache hit, log the performance\n",
    "        end_time = time.time()\n",
    "        log_performance(start_time, end_time, \"Cache hit\", key)\n",
    "    else:\n",
    "        # Cache miss, fetch from MongoDB and then put it in the cache\n",
    "        data = fetch_tweet_from_mongodb(key)\n",
    "        if data is not None:\n",
    "            self.put(key, data)\n",
    "        end_time = time.time()\n",
    "        log_performance(start_time, end_time, \"MongoDB fetch\", key)\n",
    "    return data\n"
   ]
  },
  {
   "cell_type": "code",
   "execution_count": 16,
   "id": "6d5bd062",
   "metadata": {},
   "outputs": [],
   "source": [
    "# Replace the get method in the LRUCache instance\n",
    "import types\n",
    "cache = LRUCache(capacity=100, ttl=3600, persistence_path='cache.json')\n",
    "cache.restore()\n"
   ]
  },
  {
   "cell_type": "code",
   "execution_count": 17,
   "id": "3bd825f6",
   "metadata": {},
   "outputs": [],
   "source": [
    "# Function to test the cache\n",
    "def test_cache_performance(cache, test_keys):\n",
    "    for key in test_keys:\n",
    "        # First access will always be a miss since we're not assuming pre-loading\n",
    "        start_time = time.time()\n",
    "        data = cache.get(key)\n",
    "        end_time = time.time()\n",
    "        log_performance(start_time, end_time, \"Access\", key, \"miss\")\n",
    "\n",
    "        # Subsequent accesses should be hits if the key is still in the cache\n",
    "        for _ in range(3):  # Access the same key three times to test cache hits\n",
    "            start_time = time.time()\n",
    "            data = cache.get(key)\n",
    "            end_time = time.time()\n",
    "            log_performance(start_time, end_time, \"Access\", key, \"hit\")\n"
   ]
  },
  {
   "cell_type": "code",
   "execution_count": 20,
   "id": "1c33d0ab",
   "metadata": {},
   "outputs": [],
   "source": [
    "# Example test_keys taken from the MongoDB \n",
    "test_keys = [\n",
    "    '1249403767108668930', \n",
    "    '1249403768023678982', \n",
    "    '1249403769193779202'\n",
    "]\n",
    "\n",
    "test_cache_performance(cache, test_keys)"
   ]
  }
 ],
 "metadata": {
  "kernelspec": {
   "display_name": "Python 3 (ipykernel)",
   "language": "python",
   "name": "python3"
  },
  "language_info": {
   "codemirror_mode": {
    "name": "ipython",
    "version": 3
   },
   "file_extension": ".py",
   "mimetype": "text/x-python",
   "name": "python",
   "nbconvert_exporter": "python",
   "pygments_lexer": "ipython3",
   "version": "3.11.5"
  }
 },
 "nbformat": 4,
 "nbformat_minor": 5
}
